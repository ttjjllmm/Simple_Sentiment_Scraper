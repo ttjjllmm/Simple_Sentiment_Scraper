{
 "cells": [
  {
   "cell_type": "code",
   "execution_count": 102,
   "id": "c082f392",
   "metadata": {},
   "outputs": [],
   "source": [
    "from urllib.request import urlopen, Request\n",
    "from bs4 import BeautifulSoup"
   ]
  },
  {
   "cell_type": "code",
   "execution_count": 133,
   "id": "f619d167-bd13-43a3-bdb1-08fdab05f9a3",
   "metadata": {},
   "outputs": [],
   "source": [
    "finviz_url = 'https://finviz.com/quote.ashx?t='\n",
    "tickers = ['AMZN', 'AMD', 'NVDA', 'GOOG', 'UBER', 'META'] #A list consisting of all stocks can be made\n",
    "\n",
    "# Scraping the Finviz site with financial information about USA stocks."
   ]
  },
  {
   "cell_type": "code",
   "execution_count": 134,
   "id": "7aa9f082-4ce5-47bb-aa01-80939c556aab",
   "metadata": {},
   "outputs": [],
   "source": [
    "from nltk.sentiment.vader import SentimentIntensityAnalyzer\n",
    "import pandas as pd"
   ]
  },
  {
   "cell_type": "code",
   "execution_count": 135,
   "id": "4772d5ff-ac66-4659-881e-c83ebdbd7c26",
   "metadata": {},
   "outputs": [],
   "source": [
    "import matplotlib.pyplot as plt\n",
    "\n",
    "news_tables = {}\n",
    "for ticker in tickers:\n",
    "    url = finviz_url + ticker\n",
    "\n",
    "    req = Request(url=url, headers={'user-agent': 'my-app'})\n",
    "    response = urlopen(req)\n",
    "\n",
    "    html = BeautifulSoup(response, 'html')\n",
    "    news_table = html.find(id='news-table')\n",
    "    news_tables[ticker] = news_table\n",
    "    #break\n",
    "    \n",
    "parsed_data = []\n",
    "\n",
    "for ticker, news_table in news_tables.items():\n",
    "    for row in news_table.findAll('tr'):\n",
    "        title = row.a.get_text()\n",
    "        date_data = row.td.text.split() #This was fixed from(' ') to just ()\n",
    "\n",
    "        \n",
    "        if len(date_data) == 1:\n",
    "            time = date_data[0]\n",
    "            \n",
    "        else:\n",
    "            date = date_data[0]\n",
    "            time = date_data[1]\n",
    "            \n",
    "\n",
    "\n",
    "        parsed_data.append([ticker, date, time, title])\n",
    "\n"
   ]
  },
  {
   "cell_type": "code",
   "execution_count": 136,
   "id": "2183e2f9-d3a7-4aa8-8b72-f455365f6501",
   "metadata": {},
   "outputs": [],
   "source": [
    "df = pd.DataFrame(parsed_data, columns=['ticker', 'date', 'time', 'title'])\n",
    "\n",
    "\n",
    "vader = SentimentIntensityAnalyzer()\n",
    "\n",
    "f = lambda title: vader.polarity_scores(title)['compound']\n",
    "df['compound'] = df['title'].apply(f)\n",
    "\n",
    "#print(df.head())\n",
    "#print(df.tail())"
   ]
  },
  {
   "cell_type": "code",
   "execution_count": 137,
   "id": "1b8db231",
   "metadata": {},
   "outputs": [],
   "source": [
    "from datetime import datetime\n",
    "df['date'] = df['date'].replace('Today', datetime.today().strftime('%b-%d-%y'))\n",
    "\n",
    "#print(df.head())"
   ]
  },
  {
   "cell_type": "code",
   "execution_count": 138,
   "id": "4df245e9",
   "metadata": {},
   "outputs": [
    {
     "name": "stderr",
     "output_type": "stream",
     "text": [
      "C:\\Users\\tuukk\\AppData\\Local\\Temp\\ipykernel_12452\\4068483838.py:1: UserWarning: Could not infer format, so each element will be parsed individually, falling back to `dateutil`. To ensure parsing is consistent and as-expected, please specify a format.\n",
      "  df['date'] = pd.to_datetime(df.date).dt.date\n"
     ]
    },
    {
     "data": {
      "text/plain": [
       "<Figure size 1000x800 with 0 Axes>"
      ]
     },
     "execution_count": 138,
     "metadata": {},
     "output_type": "execute_result"
    },
    {
     "data": {
      "text/plain": [
       "<Figure size 1000x800 with 0 Axes>"
      ]
     },
     "metadata": {},
     "output_type": "display_data"
    }
   ],
   "source": [
    "df['date'] = pd.to_datetime(df.date).dt.date\n",
    "\n",
    "#print(df.head())\n",
    "#print(df.tail())\n",
    "\n",
    "plt.figure(figsize=(10,8))"
   ]
  },
  {
   "cell_type": "code",
   "execution_count": 139,
   "id": "7c736fbd",
   "metadata": {},
   "outputs": [],
   "source": [
    "selected_columns = ['ticker', 'date', 'compound']\n",
    "new_df = df[selected_columns].copy() \n",
    "#print(new_df.head())"
   ]
  },
  {
   "cell_type": "code",
   "execution_count": 140,
   "id": "8df21527",
   "metadata": {},
   "outputs": [],
   "source": [
    "# Mean Sentiment for each day\n",
    "mean_df = new_df.groupby(['ticker', 'date']).mean()\n",
    "\n",
    "#print(mean_df)"
   ]
  },
  {
   "cell_type": "code",
   "execution_count": 141,
   "id": "31cdf054",
   "metadata": {},
   "outputs": [],
   "source": [
    "mean_df = mean_df.unstack()\n",
    "mean_df = mean_df.xs('compound', axis=\"columns\").transpose()\n",
    "#print(mean_df)"
   ]
  },
  {
   "cell_type": "code",
   "execution_count": 142,
   "id": "3e72f294",
   "metadata": {},
   "outputs": [
    {
     "data": {
      "image/png": "[encoded data removed]",
      "text/plain": [
       "<Figure size 640x480 with 1 Axes>"
      ]
     },
     "metadata": {},
     "output_type": "display_data"
    }
   ],
   "source": [
    "mean_df.plot(kind='bar')\n",
    "plt.show()"
   ]
  },
  {
   "cell_type": "code",
   "execution_count": 66,
   "id": "85a92fa4",
   "metadata": {},
   "outputs": [],
   "source": []
  },
  {
   "cell_type": "code",
   "execution_count": null,
   "id": "985f7b92",
   "metadata": {},
   "outputs": [],
   "source": []
  }
 ],
 "metadata": {
  "kernelspec": {
   "display_name": "Python 3 (ipykernel)",
   "language": "python",
   "name": "python3"
  },
  "language_info": {
   "codemirror_mode": {
    "name": "ipython",
    "version": 3
   },
   "file_extension": ".py",
   "mimetype": "text/x-python",
   "name": "python",
   "nbconvert_exporter": "python",
   "pygments_lexer": "ipython3",
   "version": "3.11.5"
  }
 },
 "nbformat": 4,
 "nbformat_minor": 5
}
